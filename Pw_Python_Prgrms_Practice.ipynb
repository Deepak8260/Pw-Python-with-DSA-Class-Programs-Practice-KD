{
  "nbformat": 4,
  "nbformat_minor": 0,
  "metadata": {
    "colab": {
      "provenance": [],
      "include_colab_link": true
    },
    "kernelspec": {
      "name": "python3",
      "display_name": "Python 3"
    },
    "language_info": {
      "name": "python"
    }
  },
  "cells": [
    {
      "cell_type": "markdown",
      "metadata": {
        "id": "view-in-github",
        "colab_type": "text"
      },
      "source": [
        "<a href=\"https://colab.research.google.com/github/Deepak8260/Pw-Python-with-DSA-Class-Programs-Practice-KD/blob/main/Pw_Python_Prgrms_Practice.ipynb\" target=\"_parent\"><img src=\"https://colab.research.google.com/assets/colab-badge.svg\" alt=\"Open In Colab\"/></a>"
      ]
    },
    {
      "cell_type": "code",
      "execution_count": null,
      "metadata": {
        "colab": {
          "base_uri": "https://localhost:8080/"
        },
        "id": "O-4v1kECJm51",
        "outputId": "5d383c19-b3d2-46ed-bde8-f593d9acfb45"
      },
      "outputs": [
        {
          "output_type": "stream",
          "name": "stdout",
          "text": [
            "5\n",
            "5\n",
            "137347335340400\n",
            "137347335340400\n"
          ]
        }
      ],
      "source": [
        "#reference variable program. As the value of x and y are same , so they will point to same memory location\n",
        "x=5\n",
        "y=5\n",
        "print(x)\n",
        "print(y)\n",
        "print(id(x))\n",
        "print(id(y))"
      ]
    },
    {
      "cell_type": "code",
      "source": [
        "#Data Types\n",
        "x=5\n",
        "y=4.5\n",
        "z=5e10\n",
        "r=True\n",
        "s= 4 + 6j\n",
        "print(type(x))\n",
        "print(type(y))\n",
        "print(type(z))\n",
        "print(type(r))\n",
        "print(type(s))\n",
        "#print(type(x))"
      ],
      "metadata": {
        "colab": {
          "base_uri": "https://localhost:8080/"
        },
        "id": "TPSTF007KnCR",
        "outputId": "d9d334a1-095b-4a5f-f711-bbbd2f20a7ae"
      },
      "execution_count": null,
      "outputs": [
        {
          "output_type": "stream",
          "name": "stdout",
          "text": [
            "<class 'int'>\n",
            "<class 'float'>\n",
            "<class 'float'>\n",
            "<class 'bool'>\n",
            "<class 'complex'>\n"
          ]
        }
      ]
    },
    {
      "cell_type": "code",
      "source": [
        "print(abs(-98))  #print absolute value of a number"
      ],
      "metadata": {
        "colab": {
          "base_uri": "https://localhost:8080/"
        },
        "id": "20LHfZ5rMhHO",
        "outputId": "bfcd7ec2-32bf-4b07-c5f1-59472c90341b"
      },
      "execution_count": null,
      "outputs": [
        {
          "output_type": "stream",
          "name": "stdout",
          "text": [
            "98\n"
          ]
        }
      ]
    },
    {
      "cell_type": "code",
      "source": [
        "print(pow(5,3))"
      ],
      "metadata": {
        "colab": {
          "base_uri": "https://localhost:8080/"
        },
        "id": "DEG8WSdZOP_Z",
        "outputId": "38366f68-e99d-45b0-9174-7864e4f5c104"
      },
      "execution_count": null,
      "outputs": [
        {
          "output_type": "stream",
          "name": "stdout",
          "text": [
            "125\n"
          ]
        }
      ]
    },
    {
      "cell_type": "code",
      "source": [
        "print(round(56.9999999999999999))"
      ],
      "metadata": {
        "colab": {
          "base_uri": "https://localhost:8080/"
        },
        "id": "9ibNr7KnO1Am",
        "outputId": "9057d1b9-e214-45b0-eabf-b4edd6908f08"
      },
      "execution_count": null,
      "outputs": [
        {
          "output_type": "stream",
          "name": "stdout",
          "text": [
            "57\n"
          ]
        }
      ]
    },
    {
      "cell_type": "code",
      "source": [
        "l=[2,6,34,23,8,3,45,7,9,43,7,9,5,3,6,22,65,87,53,7642,56,77,46,4534,55745,4,64,5,34,234,234,345,455,6,576,85,3,42,32,32]\n",
        "print(f\"The minimum value from the list is {min(l)}\")\n",
        "print(f\"The maximum value from the list is {max(l)}\")\n",
        "print(f\"The sum of all the elemenmts in the list is {sum(l)} \")"
      ],
      "metadata": {
        "colab": {
          "base_uri": "https://localhost:8080/"
        },
        "id": "Vosw8UhdPIqW",
        "outputId": "fa519c3b-78bd-4bcf-e6d8-0a95e93d7439"
      },
      "execution_count": null,
      "outputs": [
        {
          "output_type": "stream",
          "name": "stdout",
          "text": [
            "The minimum value from the list is 2\n",
            "The maximum value from the list is 55745\n",
            "The sum of all the elemenmts in the list is 70688 \n"
          ]
        }
      ]
    },
    {
      "cell_type": "markdown",
      "source": [
        "For loop Programs done pw  vishwa sir in lectures\n"
      ],
      "metadata": {
        "id": "00dDg3zxPu5H"
      }
    },
    {
      "cell_type": "code",
      "source": [
        "#p1 sum of all even num from 1 to 20\n",
        "sum=0\n",
        "for i in range(2,21,2):\n",
        "  sum+=i\n",
        "print(sum)"
      ],
      "metadata": {
        "colab": {
          "base_uri": "https://localhost:8080/"
        },
        "id": "WR75TIl0QNgF",
        "outputId": "4293659d-72a2-4acd-d6d0-bbbb90a6a75a"
      },
      "execution_count": null,
      "outputs": [
        {
          "output_type": "stream",
          "name": "stdout",
          "text": [
            "110\n"
          ]
        }
      ]
    },
    {
      "cell_type": "code",
      "source": [
        "#alternative prgm for p1(recommended)\n",
        "sum=0\n",
        "for i in range(1,21):\n",
        "  if i%2==0:\n",
        "    sum+=i\n",
        "print(sum)"
      ],
      "metadata": {
        "colab": {
          "base_uri": "https://localhost:8080/"
        },
        "id": "pCvOHxVIQ0Si",
        "outputId": "ff4f9e1b-9097-4bdf-8fc1-cf439336c113"
      },
      "execution_count": null,
      "outputs": [
        {
          "output_type": "stream",
          "name": "stdout",
          "text": [
            "110\n"
          ]
        }
      ]
    },
    {
      "cell_type": "code",
      "source": [
        "#p2 count the num of vowels in a given string\n",
        "str= \"absolutely\"\n",
        "count=0\n",
        "for i in str:\n",
        "  match i:\n",
        "    case 'a':\n",
        "      count+=1\n",
        "    case 'e':\n",
        "      count+=1\n",
        "    case 'i':\n",
        "      count+=1\n",
        "    case 'o':\n",
        "      count+=1\n",
        "    case 'u':\n",
        "      count+=1\n",
        "    case 'A':\n",
        "      count+=1\n",
        "    case 'E':\n",
        "      count+=1\n",
        "    case 'I':\n",
        "      count+=1\n",
        "    case 'O':\n",
        "      count+=1\n",
        "    case 'U':\n",
        "      count+=1\n",
        "print(count)\n",
        "\n",
        "\n"
      ],
      "metadata": {
        "colab": {
          "base_uri": "https://localhost:8080/"
        },
        "id": "AGt0wvkDTtsA",
        "outputId": "ab5570ec-f5f6-4bef-a5ba-c575b162ef81"
      },
      "execution_count": null,
      "outputs": [
        {
          "output_type": "stream",
          "name": "stdout",
          "text": [
            "4\n"
          ]
        }
      ]
    },
    {
      "cell_type": "code",
      "source": [
        "#alternative of p2(recommended)\n",
        "count=0\n",
        "str= \"I am Kumar Deepak\"\n",
        "for i in str:\n",
        "  if i.lower() in ['a','e','i','o','u']:\n",
        "    count +=1\n",
        "print(count)"
      ],
      "metadata": {
        "colab": {
          "base_uri": "https://localhost:8080/"
        },
        "id": "Q4t8RMOVYbYj",
        "outputId": "37a5bc5e-4094-4781-a5ac-2918c987231c"
      },
      "execution_count": null,
      "outputs": [
        {
          "output_type": "stream",
          "name": "stdout",
          "text": [
            "7\n"
          ]
        }
      ]
    },
    {
      "cell_type": "code",
      "source": [
        "#p3 Fibonacci Series\n",
        "n=int(input(\"Enter a number\"))\n",
        "if n<=0:\n",
        "  print(\"Check the input\")\n",
        "else:\n",
        "  first=0\n",
        "  second=1\n",
        "  print(first)\n",
        "  print(second)\n",
        "\n",
        "\n",
        "\n",
        "\n",
        "for i in range(1,n+1):\n",
        "  third=first+second\n",
        "  first=second\n",
        "  second=third\n",
        "\n",
        "  print(second)"
      ],
      "metadata": {
        "colab": {
          "base_uri": "https://localhost:8080/"
        },
        "id": "g4CTLEULZNfu",
        "outputId": "2f2ea3ae-abea-4954-d276-5f884bdadb20"
      },
      "execution_count": null,
      "outputs": [
        {
          "output_type": "stream",
          "name": "stdout",
          "text": [
            "Enter a number5\n",
            "0\n",
            "1\n",
            "1\n",
            "2\n",
            "3\n",
            "5\n",
            "8\n"
          ]
        }
      ]
    },
    {
      "cell_type": "code",
      "source": [
        "print (\"Kumar\",2,8,989,76,4565)"
      ],
      "metadata": {
        "colab": {
          "base_uri": "https://localhost:8080/"
        },
        "id": "RV89HQoRfnci",
        "outputId": "21abac27-e5d1-4827-b0af-0d11fc5e7a73"
      },
      "execution_count": null,
      "outputs": [
        {
          "output_type": "stream",
          "name": "stdout",
          "text": [
            "Kumar 2 8 989 76 4565\n"
          ]
        }
      ]
    },
    {
      "cell_type": "code",
      "source": [
        "num = int(input(\"Enter a number: \"))\n",
        "print(num>>1)\n",
        "print(num<<1)"
      ],
      "metadata": {
        "id": "jSKHM8E1uN7F",
        "colab": {
          "base_uri": "https://localhost:8080/"
        },
        "outputId": "e41bab55-d018-4466-8ac2-984407baa413"
      },
      "execution_count": 1,
      "outputs": [
        {
          "output_type": "stream",
          "name": "stdout",
          "text": [
            "Enter a number: 14\n",
            "7\n",
            "28\n"
          ]
        }
      ]
    },
    {
      "cell_type": "code",
      "source": [
        "num = int(input(\"Enter a number: \"))\n",
        "print(num>>2)\n",
        "print(num<<2)"
      ],
      "metadata": {
        "id": "-P8I_ByNuN4u",
        "colab": {
          "base_uri": "https://localhost:8080/"
        },
        "outputId": "b9f273f8-b624-4f12-80d2-5e5457c0f594"
      },
      "execution_count": 2,
      "outputs": [
        {
          "output_type": "stream",
          "name": "stdout",
          "text": [
            "Enter a number: 20\n",
            "5\n",
            "80\n"
          ]
        }
      ]
    },
    {
      "cell_type": "code",
      "source": [
        "x=5\n",
        "y=5\n",
        "print(x is y)"
      ],
      "metadata": {
        "id": "iOfRLvW9uN2i",
        "colab": {
          "base_uri": "https://localhost:8080/"
        },
        "outputId": "234154de-6868-485c-d4ea-21d7349eb3d1"
      },
      "execution_count": 3,
      "outputs": [
        {
          "output_type": "stream",
          "name": "stdout",
          "text": [
            "True\n"
          ]
        }
      ]
    },
    {
      "cell_type": "code",
      "source": [
        "arr=[1,2,3]\n",
        "ar=[1,2,3]\n",
        "print(arr is ar)"
      ],
      "metadata": {
        "id": "79H8LGofuN0B",
        "colab": {
          "base_uri": "https://localhost:8080/"
        },
        "outputId": "9abb588f-12a9-44f4-def4-ab3007eb868c"
      },
      "execution_count": 4,
      "outputs": [
        {
          "output_type": "stream",
          "name": "stdout",
          "text": [
            "False\n"
          ]
        }
      ]
    },
    {
      "cell_type": "code",
      "source": [
        "x=5\n",
        "print(id(x))\n",
        "x=6\n",
        "print(id(x))"
      ],
      "metadata": {
        "id": "wppqv-UPuNxt",
        "colab": {
          "base_uri": "https://localhost:8080/"
        },
        "outputId": "5cd2b9d2-74c3-44f9-a59c-395cb5b086ba"
      },
      "execution_count": 5,
      "outputs": [
        {
          "output_type": "stream",
          "name": "stdout",
          "text": [
            "136761734381936\n",
            "136761734381968\n"
          ]
        }
      ]
    },
    {
      "cell_type": "code",
      "source": [
        "s1=[8,9,6]\n",
        "print(id(s1))\n",
        "s1=[2,7,5]\n",
        "print(id(s1))"
      ],
      "metadata": {
        "id": "lgHPX5U_uNvh",
        "colab": {
          "base_uri": "https://localhost:8080/"
        },
        "outputId": "ba8b99bb-2860-4529-b6fc-6c024a0b01a3"
      },
      "execution_count": 6,
      "outputs": [
        {
          "output_type": "stream",
          "name": "stdout",
          "text": [
            "136761304251072\n",
            "136761317846912\n"
          ]
        }
      ]
    },
    {
      "cell_type": "code",
      "source": [
        "st='kum'\n",
        "print(st)"
      ],
      "metadata": {
        "id": "2MAWP8OfuNuA",
        "colab": {
          "base_uri": "https://localhost:8080/"
        },
        "outputId": "0d8fac0f-febf-476e-ad5c-1de496d3b3dd"
      },
      "execution_count": 7,
      "outputs": [
        {
          "output_type": "stream",
          "name": "stdout",
          "text": [
            "kum\n"
          ]
        }
      ]
    },
    {
      "cell_type": "code",
      "source": [
        "st[0]"
      ],
      "metadata": {
        "id": "AGfIdjqsuNq3",
        "colab": {
          "base_uri": "https://localhost:8080/",
          "height": 35
        },
        "outputId": "00cb4655-470b-44cf-a147-5e96b57c51e8"
      },
      "execution_count": 8,
      "outputs": [
        {
          "output_type": "execute_result",
          "data": {
            "text/plain": [
              "'k'"
            ],
            "application/vnd.google.colaboratory.intrinsic+json": {
              "type": "string"
            }
          },
          "metadata": {},
          "execution_count": 8
        }
      ]
    },
    {
      "cell_type": "code",
      "source": [
        "st[0]='h'\n",
        "print(st)"
      ],
      "metadata": {
        "id": "fpxN2F8YuNou",
        "colab": {
          "base_uri": "https://localhost:8080/",
          "height": 159
        },
        "outputId": "d91f8451-081c-4f1a-83a1-9ca47b400f4d"
      },
      "execution_count": 9,
      "outputs": [
        {
          "output_type": "error",
          "ename": "TypeError",
          "evalue": "'str' object does not support item assignment",
          "traceback": [
            "\u001b[0;31m---------------------------------------------------------------------------\u001b[0m",
            "\u001b[0;31mTypeError\u001b[0m                                 Traceback (most recent call last)",
            "\u001b[0;32m<ipython-input-9-02783e5efe17>\u001b[0m in \u001b[0;36m<cell line: 1>\u001b[0;34m()\u001b[0m\n\u001b[0;32m----> 1\u001b[0;31m \u001b[0mst\u001b[0m\u001b[0;34m[\u001b[0m\u001b[0;36m0\u001b[0m\u001b[0;34m]\u001b[0m\u001b[0;34m=\u001b[0m\u001b[0;34m'h'\u001b[0m\u001b[0;34m\u001b[0m\u001b[0;34m\u001b[0m\u001b[0m\n\u001b[0m\u001b[1;32m      2\u001b[0m \u001b[0mprint\u001b[0m\u001b[0;34m(\u001b[0m\u001b[0mst\u001b[0m\u001b[0;34m)\u001b[0m\u001b[0;34m\u001b[0m\u001b[0;34m\u001b[0m\u001b[0m\n",
            "\u001b[0;31mTypeError\u001b[0m: 'str' object does not support item assignment"
          ]
        }
      ]
    },
    {
      "cell_type": "code",
      "source": [
        "a=666\n",
        "print(id(a))\n",
        "y=666\n",
        "print(id(y))\n",
        "print()\n",
        "print(a is y)"
      ],
      "metadata": {
        "id": "KEplXHZTuNmU",
        "colab": {
          "base_uri": "https://localhost:8080/"
        },
        "outputId": "34251652-d3e7-4e24-9c99-74f28da33545"
      },
      "execution_count": 10,
      "outputs": [
        {
          "output_type": "stream",
          "name": "stdout",
          "text": [
            "136761304098288\n",
            "136761304096624\n",
            "\n",
            "False\n"
          ]
        }
      ]
    },
    {
      "cell_type": "code",
      "source": [
        "a=6\n",
        "print(id(a))\n",
        "y=6\n",
        "print(id(y))\n",
        "print()\n",
        "print(a is y)"
      ],
      "metadata": {
        "id": "oYT1jVAXuNjt",
        "colab": {
          "base_uri": "https://localhost:8080/"
        },
        "outputId": "d7ca9b8b-7dd3-4a82-86fc-f2a76bc42608"
      },
      "execution_count": 11,
      "outputs": [
        {
          "output_type": "stream",
          "name": "stdout",
          "text": [
            "136761734381968\n",
            "136761734381968\n",
            "\n",
            "True\n"
          ]
        }
      ]
    },
    {
      "cell_type": "code",
      "source": [
        "a=-6\n",
        "print(id(a))\n",
        "y=-6\n",
        "print(id(y))\n",
        "print()\n",
        "print(a is y)"
      ],
      "metadata": {
        "id": "PMBTOYyVuNcB",
        "colab": {
          "base_uri": "https://localhost:8080/"
        },
        "outputId": "1837f718-7f00-452e-83c6-8d6140779e34"
      },
      "execution_count": 12,
      "outputs": [
        {
          "output_type": "stream",
          "name": "stdout",
          "text": [
            "136761304098864\n",
            "136761304098768\n",
            "\n",
            "False\n"
          ]
        }
      ]
    },
    {
      "cell_type": "code",
      "source": [
        "a=[] # here a is an empty list which denotes as falsy value\n",
        "if a:\n",
        "  print(\"Valid\")\n",
        "else:\n",
        "  print('invalid')"
      ],
      "metadata": {
        "id": "oABctclGulgz",
        "colab": {
          "base_uri": "https://localhost:8080/"
        },
        "outputId": "8f656c26-cf25-4f2d-834d-b7b11c0bf385"
      },
      "execution_count": 13,
      "outputs": [
        {
          "output_type": "stream",
          "name": "stdout",
          "text": [
            "invalid\n"
          ]
        }
      ]
    },
    {
      "cell_type": "code",
      "source": [
        "a=5 # here a is an integer which denotes as truthy value\n",
        "if a:\n",
        "  print(\"Valid\")\n",
        "else:\n",
        "  print('invalid')"
      ],
      "metadata": {
        "id": "tVvosP6ruleq",
        "colab": {
          "base_uri": "https://localhost:8080/"
        },
        "outputId": "b012a3e1-a3d0-49ac-ee1b-5a42a8353f4c"
      },
      "execution_count": 14,
      "outputs": [
        {
          "output_type": "stream",
          "name": "stdout",
          "text": [
            "Valid\n"
          ]
        }
      ]
    },
    {
      "cell_type": "code",
      "source": [],
      "metadata": {
        "id": "ctkf96WPulb9"
      },
      "execution_count": null,
      "outputs": []
    },
    {
      "cell_type": "code",
      "source": [],
      "metadata": {
        "id": "4Z7KyVi_ulY7"
      },
      "execution_count": null,
      "outputs": []
    }
  ]
}