{
  "nbformat": 4,
  "nbformat_minor": 0,
  "metadata": {
    "colab": {
      "provenance": [],
      "authorship_tag": "ABX9TyMmg0AopEraSQ0eu2YNiBoc",
      "include_colab_link": true
    },
    "kernelspec": {
      "name": "python3",
      "display_name": "Python 3"
    },
    "language_info": {
      "name": "python"
    }
  },
  "cells": [
    {
      "cell_type": "markdown",
      "metadata": {
        "id": "view-in-github",
        "colab_type": "text"
      },
      "source": [
        "<a href=\"https://colab.research.google.com/github/Deepak8260/Pw-Python-with-DSA-Class-Programs-Practice-KD/blob/main/PW_Sorting_Practice_Kumar.ipynb\" target=\"_parent\"><img src=\"https://colab.research.google.com/assets/colab-badge.svg\" alt=\"Open In Colab\"/></a>"
      ]
    },
    {
      "cell_type": "markdown",
      "source": [
        "# Bubble Sort"
      ],
      "metadata": {
        "id": "GRpblMlEGwIN"
      }
    },
    {
      "cell_type": "code",
      "source": [
        "def bubble(arr):\n",
        "  n=len(arr)\n",
        "  for i in range(n-1):\n",
        "    for j in range(n-i-1):\n",
        "      if arr[j]>arr[j+1] :\n",
        "        arr[j],arr[j+1] = arr[j+1],arr[j]\n",
        "\n",
        "arr=[5,1,3,4,2]\n",
        "print(f'Before Sorting:{arr}')\n",
        "bubble(arr)\n",
        "print(f'After Sorting:{arr}')"
      ],
      "metadata": {
        "colab": {
          "base_uri": "https://localhost:8080/"
        },
        "id": "ncgZRwmdCKNM",
        "outputId": "4676f64f-dd42-46ea-86d9-f611c2749458"
      },
      "execution_count": 4,
      "outputs": [
        {
          "output_type": "stream",
          "name": "stdout",
          "text": [
            "before sorting:[5, 1, 3, 4, 2]\n",
            "After Sorting:[1, 2, 3, 4, 5]\n"
          ]
        }
      ]
    },
    {
      "cell_type": "markdown",
      "source": [
        "# How many maximum swaps are needed to swap an array of length 5"
      ],
      "metadata": {
        "id": "JIG_7lU3fq0Z"
      }
    },
    {
      "cell_type": "code",
      "source": [
        "def bubble(arr):\n",
        "  count=0\n",
        "  n=len(arr)\n",
        "  for i in range(n-1):\n",
        "    for j in range(n-i-1):\n",
        "      if arr[j]>arr[j+1] :\n",
        "        count = count+1\n",
        "        arr[j],arr[j+1] = arr[j+1],arr[j]\n",
        "  return count\n",
        "\n",
        "print(f'Maximum swaps are needed to swap an array of length 5 is {bubble([5,4,3,2,1])}')"
      ],
      "metadata": {
        "colab": {
          "base_uri": "https://localhost:8080/"
        },
        "id": "eYnQHfs8C5Bl",
        "outputId": "5d3f2e8f-0f55-4a9a-bd0c-f1d06009e966"
      },
      "execution_count": 15,
      "outputs": [
        {
          "output_type": "stream",
          "name": "stdout",
          "text": [
            "Maximum swaps are needed to swap an array of length 5 is 10\n"
          ]
        }
      ]
    },
    {
      "cell_type": "code",
      "source": [],
      "metadata": {
        "id": "N0LQDKeXf-O5"
      },
      "execution_count": null,
      "outputs": []
    }
  ]
}