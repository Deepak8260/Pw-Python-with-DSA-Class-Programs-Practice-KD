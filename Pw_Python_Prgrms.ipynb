{
  "nbformat": 4,
  "nbformat_minor": 0,
  "metadata": {
    "colab": {
      "provenance": [],
      "include_colab_link": true
    },
    "kernelspec": {
      "name": "python3",
      "display_name": "Python 3"
    },
    "language_info": {
      "name": "python"
    }
  },
  "cells": [
    {
      "cell_type": "markdown",
      "metadata": {
        "id": "view-in-github",
        "colab_type": "text"
      },
      "source": [
        "<a href=\"https://colab.research.google.com/github/Deepak8260/Pw-Python-with-DSA-Class-Programs-Practice-KD/blob/main/Pw_Python_Prgrms.ipynb\" target=\"_parent\"><img src=\"https://colab.research.google.com/assets/colab-badge.svg\" alt=\"Open In Colab\"/></a>"
      ]
    },
    {
      "cell_type": "code",
      "execution_count": null,
      "metadata": {
        "colab": {
          "base_uri": "https://localhost:8080/"
        },
        "id": "O-4v1kECJm51",
        "outputId": "5d383c19-b3d2-46ed-bde8-f593d9acfb45"
      },
      "outputs": [
        {
          "output_type": "stream",
          "name": "stdout",
          "text": [
            "5\n",
            "5\n",
            "137347335340400\n",
            "137347335340400\n"
          ]
        }
      ],
      "source": [
        "#reference variable program. As the value of x and y are same , so they will point to same memory location\n",
        "x=5\n",
        "y=5\n",
        "print(x)\n",
        "print(y)\n",
        "print(id(x))\n",
        "print(id(y))"
      ]
    },
    {
      "cell_type": "code",
      "source": [
        "#Data Types\n",
        "x=5\n",
        "y=4.5\n",
        "z=5e10\n",
        "r=True\n",
        "s= 4 + 6j\n",
        "print(type(x))\n",
        "print(type(y))\n",
        "print(type(z))\n",
        "print(type(r))\n",
        "print(type(s))\n",
        "#print(type(x))"
      ],
      "metadata": {
        "colab": {
          "base_uri": "https://localhost:8080/"
        },
        "id": "TPSTF007KnCR",
        "outputId": "d9d334a1-095b-4a5f-f711-bbbd2f20a7ae"
      },
      "execution_count": null,
      "outputs": [
        {
          "output_type": "stream",
          "name": "stdout",
          "text": [
            "<class 'int'>\n",
            "<class 'float'>\n",
            "<class 'float'>\n",
            "<class 'bool'>\n",
            "<class 'complex'>\n"
          ]
        }
      ]
    },
    {
      "cell_type": "code",
      "source": [
        "print(abs(-98))  #print absolute value of a number"
      ],
      "metadata": {
        "colab": {
          "base_uri": "https://localhost:8080/"
        },
        "id": "20LHfZ5rMhHO",
        "outputId": "bfcd7ec2-32bf-4b07-c5f1-59472c90341b"
      },
      "execution_count": null,
      "outputs": [
        {
          "output_type": "stream",
          "name": "stdout",
          "text": [
            "98\n"
          ]
        }
      ]
    },
    {
      "cell_type": "code",
      "source": [
        "print(pow(5,3))"
      ],
      "metadata": {
        "colab": {
          "base_uri": "https://localhost:8080/"
        },
        "id": "DEG8WSdZOP_Z",
        "outputId": "38366f68-e99d-45b0-9174-7864e4f5c104"
      },
      "execution_count": null,
      "outputs": [
        {
          "output_type": "stream",
          "name": "stdout",
          "text": [
            "125\n"
          ]
        }
      ]
    },
    {
      "cell_type": "code",
      "source": [
        "print(round(56.9999999999999999))"
      ],
      "metadata": {
        "colab": {
          "base_uri": "https://localhost:8080/"
        },
        "id": "9ibNr7KnO1Am",
        "outputId": "9057d1b9-e214-45b0-eabf-b4edd6908f08"
      },
      "execution_count": null,
      "outputs": [
        {
          "output_type": "stream",
          "name": "stdout",
          "text": [
            "57\n"
          ]
        }
      ]
    },
    {
      "cell_type": "code",
      "source": [
        "l=[2,6,34,23,8,3,45,7,9,43,7,9,5,3,6,22,65,87,53,7642,56,77,46,4534,55745,4,64,5,34,234,234,345,455,6,576,85,3,42,32,32]\n",
        "print(f\"The minimum value from the list is {min(l)}\")\n",
        "print(f\"The maximum value from the list is {max(l)}\")\n",
        "print(f\"The sum of all the elemenmts in the list is {sum(l)} \")"
      ],
      "metadata": {
        "colab": {
          "base_uri": "https://localhost:8080/"
        },
        "id": "Vosw8UhdPIqW",
        "outputId": "fa519c3b-78bd-4bcf-e6d8-0a95e93d7439"
      },
      "execution_count": null,
      "outputs": [
        {
          "output_type": "stream",
          "name": "stdout",
          "text": [
            "The minimum value from the list is 2\n",
            "The maximum value from the list is 55745\n",
            "The sum of all the elemenmts in the list is 70688 \n"
          ]
        }
      ]
    },
    {
      "cell_type": "markdown",
      "source": [
        "For loop Programs done pw  vishwa sir in lectures\n"
      ],
      "metadata": {
        "id": "00dDg3zxPu5H"
      }
    },
    {
      "cell_type": "code",
      "source": [
        "#p1 sum of all even num from 1 to 20\n",
        "sum=0\n",
        "for i in range(2,21,2):\n",
        "  sum+=i\n",
        "print(sum)"
      ],
      "metadata": {
        "colab": {
          "base_uri": "https://localhost:8080/"
        },
        "id": "WR75TIl0QNgF",
        "outputId": "4293659d-72a2-4acd-d6d0-bbbb90a6a75a"
      },
      "execution_count": null,
      "outputs": [
        {
          "output_type": "stream",
          "name": "stdout",
          "text": [
            "110\n"
          ]
        }
      ]
    },
    {
      "cell_type": "code",
      "source": [
        "#alternative prgm for p1(recommended)\n",
        "sum=0\n",
        "for i in range(1,21):\n",
        "  if i%2==0:\n",
        "    sum+=i\n",
        "print(sum)"
      ],
      "metadata": {
        "colab": {
          "base_uri": "https://localhost:8080/"
        },
        "id": "pCvOHxVIQ0Si",
        "outputId": "ff4f9e1b-9097-4bdf-8fc1-cf439336c113"
      },
      "execution_count": null,
      "outputs": [
        {
          "output_type": "stream",
          "name": "stdout",
          "text": [
            "110\n"
          ]
        }
      ]
    },
    {
      "cell_type": "code",
      "source": [
        "#p2 count the num of vowels in a given string\n",
        "str= \"absolutely\"\n",
        "count=0\n",
        "for i in str:\n",
        "  match i:\n",
        "    case 'a':\n",
        "      count+=1\n",
        "    case 'e':\n",
        "      count+=1\n",
        "    case 'i':\n",
        "      count+=1\n",
        "    case 'o':\n",
        "      count+=1\n",
        "    case 'u':\n",
        "      count+=1\n",
        "    case 'A':\n",
        "      count+=1\n",
        "    case 'E':\n",
        "      count+=1\n",
        "    case 'I':\n",
        "      count+=1\n",
        "    case 'O':\n",
        "      count+=1\n",
        "    case 'U':\n",
        "      count+=1\n",
        "print(count)\n",
        "\n",
        "\n"
      ],
      "metadata": {
        "colab": {
          "base_uri": "https://localhost:8080/"
        },
        "id": "AGt0wvkDTtsA",
        "outputId": "ab5570ec-f5f6-4bef-a5ba-c575b162ef81"
      },
      "execution_count": null,
      "outputs": [
        {
          "output_type": "stream",
          "name": "stdout",
          "text": [
            "4\n"
          ]
        }
      ]
    },
    {
      "cell_type": "code",
      "source": [
        "#alternative of p2(recommended)\n",
        "count=0\n",
        "str= \"I am Kumar Deepak\"\n",
        "for i in str:\n",
        "  if i.lower() in ['a','e','i','o','u']:\n",
        "    count +=1\n",
        "print(count)"
      ],
      "metadata": {
        "colab": {
          "base_uri": "https://localhost:8080/"
        },
        "id": "Q4t8RMOVYbYj",
        "outputId": "37a5bc5e-4094-4781-a5ac-2918c987231c"
      },
      "execution_count": null,
      "outputs": [
        {
          "output_type": "stream",
          "name": "stdout",
          "text": [
            "7\n"
          ]
        }
      ]
    },
    {
      "cell_type": "code",
      "source": [
        "#p3 Fibonacci Series\n",
        "n=int(input(\"Enter a number\"))\n",
        "if n<=0:\n",
        "  print(\"Check the input\")\n",
        "else:\n",
        "  first=0\n",
        "  second=1\n",
        "  print(first)\n",
        "  print(second)\n",
        "\n",
        "\n",
        "\n",
        "\n",
        "for i in range(1,n+1):\n",
        "  third=first+second\n",
        "  first=second\n",
        "  second=third\n",
        "\n",
        "  print(second)"
      ],
      "metadata": {
        "colab": {
          "base_uri": "https://localhost:8080/"
        },
        "id": "g4CTLEULZNfu",
        "outputId": "2f2ea3ae-abea-4954-d276-5f884bdadb20"
      },
      "execution_count": null,
      "outputs": [
        {
          "output_type": "stream",
          "name": "stdout",
          "text": [
            "Enter a number5\n",
            "0\n",
            "1\n",
            "1\n",
            "2\n",
            "3\n",
            "5\n",
            "8\n"
          ]
        }
      ]
    },
    {
      "cell_type": "code",
      "source": [
        "print (\"Kumar\",2,8,989,76,4565)"
      ],
      "metadata": {
        "colab": {
          "base_uri": "https://localhost:8080/"
        },
        "id": "RV89HQoRfnci",
        "outputId": "21abac27-e5d1-4827-b0af-0d11fc5e7a73"
      },
      "execution_count": null,
      "outputs": [
        {
          "output_type": "stream",
          "name": "stdout",
          "text": [
            "Kumar 2 8 989 76 4565\n"
          ]
        }
      ]
    },
    {
      "cell_type": "code",
      "source": [
        "num = int(input(\"Enter a number: \"))\n",
        "print(num>>1)\n",
        "print(num<<1)"
      ],
      "metadata": {
        "colab": {
          "base_uri": "https://localhost:8080/"
        },
        "id": "kgMvLXNZAtip",
        "outputId": "26f9f22f-58ea-4da9-9254-b30e1dd6e802"
      },
      "execution_count": 2,
      "outputs": [
        {
          "output_type": "stream",
          "name": "stdout",
          "text": [
            "Enter a number: 16\n",
            "8\n",
            "32\n"
          ]
        }
      ]
    },
    {
      "cell_type": "code",
      "source": [
        "num = int(input(\"Enter a number: \"))\n",
        "print(num>>2)\n",
        "print(num<<2)"
      ],
      "metadata": {
        "colab": {
          "base_uri": "https://localhost:8080/"
        },
        "id": "qxRzWwKxA7Wr",
        "outputId": "44b3d54c-077c-4613-a0a2-7931d0e57593"
      },
      "execution_count": 3,
      "outputs": [
        {
          "output_type": "stream",
          "name": "stdout",
          "text": [
            "Enter a number: 16\n",
            "4\n",
            "64\n"
          ]
        }
      ]
    },
    {
      "cell_type": "code",
      "source": [
        "x=5\n",
        "y=5\n",
        "print(x is y)"
      ],
      "metadata": {
        "colab": {
          "base_uri": "https://localhost:8080/"
        },
        "id": "tqg5-vcgBN5R",
        "outputId": "b3f13161-9e66-4c42-db2a-51090e272336"
      },
      "execution_count": 4,
      "outputs": [
        {
          "output_type": "stream",
          "name": "stdout",
          "text": [
            "True\n"
          ]
        }
      ]
    },
    {
      "cell_type": "code",
      "source": [
        "arr=[1,2,3]\n",
        "ar=[1,2,3]\n",
        "print(arr is ar)"
      ],
      "metadata": {
        "colab": {
          "base_uri": "https://localhost:8080/"
        },
        "id": "RyStm95QOIwF",
        "outputId": "ddf9d5fa-54b0-4ea2-8bb3-b3c200a9bf19"
      },
      "execution_count": 5,
      "outputs": [
        {
          "output_type": "stream",
          "name": "stdout",
          "text": [
            "False\n"
          ]
        }
      ]
    },
    {
      "cell_type": "code",
      "source": [
        "\n",
        "x=5\n",
        "print(id(x))\n",
        "x=6\n",
        "print(id(x))"
      ],
      "metadata": {
        "colab": {
          "base_uri": "https://localhost:8080/"
        },
        "id": "kLXoC8R1QWqm",
        "outputId": "f6f9e17e-32fd-4852-f890-203d5bb53554"
      },
      "execution_count": 9,
      "outputs": [
        {
          "output_type": "stream",
          "name": "stdout",
          "text": [
            "136225671086448\n",
            "136225671086480\n"
          ]
        }
      ]
    },
    {
      "cell_type": "code",
      "source": [
        "s1=[8,9,6]\n",
        "print(id(s1))\n",
        "s1=[2,7,5]\n",
        "print(id(s1))"
      ],
      "metadata": {
        "colab": {
          "base_uri": "https://localhost:8080/"
        },
        "id": "AnYbXgeFTBu9",
        "outputId": "3b07830e-5504-48b0-c2a1-dc4b04999a3a"
      },
      "execution_count": 15,
      "outputs": [
        {
          "output_type": "stream",
          "name": "stdout",
          "text": [
            "136224386882432\n",
            "136224388738368\n"
          ]
        }
      ]
    },
    {
      "cell_type": "code",
      "source": [
        "st='kum'\n",
        "print(st)"
      ],
      "metadata": {
        "colab": {
          "base_uri": "https://localhost:8080/"
        },
        "id": "lVTlIRsnaUkE",
        "outputId": "c6743513-e6cc-40e8-9ded-51e69f8268f7"
      },
      "execution_count": 20,
      "outputs": [
        {
          "output_type": "stream",
          "name": "stdout",
          "text": [
            "kum\n"
          ]
        }
      ]
    },
    {
      "cell_type": "code",
      "source": [
        "st[0]"
      ],
      "metadata": {
        "colab": {
          "base_uri": "https://localhost:8080/",
          "height": 35
        },
        "id": "6tw2YMXYaX6B",
        "outputId": "a8c633dc-139a-4e65-e105-fed0e2e4a008"
      },
      "execution_count": 21,
      "outputs": [
        {
          "output_type": "execute_result",
          "data": {
            "text/plain": [
              "'k'"
            ],
            "application/vnd.google.colaboratory.intrinsic+json": {
              "type": "string"
            }
          },
          "metadata": {},
          "execution_count": 21
        }
      ]
    },
    {
      "cell_type": "code",
      "source": [
        "st[0]='h'\n",
        "print(st)"
      ],
      "metadata": {
        "colab": {
          "base_uri": "https://localhost:8080/",
          "height": 159
        },
        "id": "YGVpM6SWaZ04",
        "outputId": "a0ab08f1-8e68-4565-ac83-dcc4de76e61b"
      },
      "execution_count": 22,
      "outputs": [
        {
          "output_type": "error",
          "ename": "TypeError",
          "evalue": "'str' object does not support item assignment",
          "traceback": [
            "\u001b[0;31m---------------------------------------------------------------------------\u001b[0m",
            "\u001b[0;31mTypeError\u001b[0m                                 Traceback (most recent call last)",
            "\u001b[0;32m<ipython-input-22-02783e5efe17>\u001b[0m in \u001b[0;36m<cell line: 1>\u001b[0;34m()\u001b[0m\n\u001b[0;32m----> 1\u001b[0;31m \u001b[0mst\u001b[0m\u001b[0;34m[\u001b[0m\u001b[0;36m0\u001b[0m\u001b[0;34m]\u001b[0m\u001b[0;34m=\u001b[0m\u001b[0;34m'h'\u001b[0m\u001b[0;34m\u001b[0m\u001b[0;34m\u001b[0m\u001b[0m\n\u001b[0m\u001b[1;32m      2\u001b[0m \u001b[0mprint\u001b[0m\u001b[0;34m(\u001b[0m\u001b[0mst\u001b[0m\u001b[0;34m)\u001b[0m\u001b[0;34m\u001b[0m\u001b[0;34m\u001b[0m\u001b[0m\n",
            "\u001b[0;31mTypeError\u001b[0m: 'str' object does not support item assignment"
          ]
        }
      ]
    },
    {
      "cell_type": "code",
      "source": [
        "a=666\n",
        "print(id(a))\n",
        "y=666\n",
        "print(id(y))\n",
        "print()\n",
        "print(a is y)"
      ],
      "metadata": {
        "colab": {
          "base_uri": "https://localhost:8080/"
        },
        "id": "nfB1rqPvapL5",
        "outputId": "6ac19663-c2c3-49e9-e55b-14e94ef710b0"
      },
      "execution_count": 26,
      "outputs": [
        {
          "output_type": "stream",
          "name": "stdout",
          "text": [
            "136224388719984\n",
            "136224388710960\n",
            "\n",
            "False\n"
          ]
        }
      ]
    },
    {
      "cell_type": "code",
      "source": [
        "a=6\n",
        "print(id(a))\n",
        "y=6\n",
        "print(id(y))\n",
        "print()\n",
        "print(a is y)"
      ],
      "metadata": {
        "colab": {
          "base_uri": "https://localhost:8080/"
        },
        "id": "FRUb9dc7bFDk",
        "outputId": "1373245a-80ca-4de4-e0f3-d18efb95ab37"
      },
      "execution_count": 27,
      "outputs": [
        {
          "output_type": "stream",
          "name": "stdout",
          "text": [
            "136225671086480\n",
            "136225671086480\n",
            "\n",
            "True\n"
          ]
        }
      ]
    },
    {
      "cell_type": "code",
      "source": [
        "a=-6\n",
        "print(id(a))\n",
        "y=-6\n",
        "print(id(y))\n",
        "print()\n",
        "print(a is y)"
      ],
      "metadata": {
        "colab": {
          "base_uri": "https://localhost:8080/"
        },
        "id": "sX4Y6T3YbadW",
        "outputId": "18d3aeb5-6878-4a66-cac2-e743754abc71"
      },
      "execution_count": 30,
      "outputs": [
        {
          "output_type": "stream",
          "name": "stdout",
          "text": [
            "136224388712560\n",
            "136224388715984\n",
            "\n",
            "False\n"
          ]
        }
      ]
    },
    {
      "cell_type": "code",
      "source": [
        "a=[] # here a is an empty list which denotes as falsy value\n",
        "if a:\n",
        "  print(\"Valid\")\n",
        "else:\n",
        "  print('invalid')"
      ],
      "metadata": {
        "colab": {
          "base_uri": "https://localhost:8080/"
        },
        "id": "jOB8wt1XkSfO",
        "outputId": "19fb3f07-8ab4-4f39-a1e4-dceb645da43a"
      },
      "execution_count": 33,
      "outputs": [
        {
          "output_type": "stream",
          "name": "stdout",
          "text": [
            "invalid\n"
          ]
        }
      ]
    },
    {
      "cell_type": "code",
      "source": [
        "a=5 # here a is an integer which denotes as truthy value\n",
        "if a:\n",
        "  print(\"Valid\")\n",
        "else:\n",
        "  print('invalid')"
      ],
      "metadata": {
        "colab": {
          "base_uri": "https://localhost:8080/"
        },
        "id": "KGXwWfGWkXFj",
        "outputId": "b2cb2a71-3bbb-42b7-bd85-3dd9370e9478"
      },
      "execution_count": 34,
      "outputs": [
        {
          "output_type": "stream",
          "name": "stdout",
          "text": [
            "Valid\n"
          ]
        }
      ]
    }
  ]
}